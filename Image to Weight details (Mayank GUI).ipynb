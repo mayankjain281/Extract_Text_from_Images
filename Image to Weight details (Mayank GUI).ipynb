{
 "cells": [
  {
   "cell_type": "code",
   "execution_count": 13,
   "id": "d4fbbd68",
   "metadata": {},
   "outputs": [
    {
     "data": {
      "text/plain": [
       "1706601269.0546713"
      ]
     },
     "execution_count": 13,
     "metadata": {},
     "output_type": "execute_result"
    }
   ],
   "source": [
    "import time\n",
    "start_time = time.time()\n",
    "start_time"
   ]
  },
  {
   "cell_type": "code",
   "execution_count": 45,
   "id": "f754b34d",
   "metadata": {},
   "outputs": [
    {
     "data": {
      "text/plain": [
       "[None, None]"
      ]
     },
     "execution_count": 45,
     "metadata": {},
     "output_type": "execute_result"
    }
   ],
   "source": [
    "import os\n",
    "\n",
    "Cropped_Images_Path = r\"C:\\Users\\Admin\\Desktop\\Croped_Images\"\n",
    "Output_Images_Path = r\"C:\\Users\\Admin\\Desktop\\Output\"\n",
    "[os.makedirs(i, exist_ok=True) for i in ([Cropped_Images_Path,Output_Images_Path])]"
   ]
  },
  {
   "cell_type": "markdown",
   "id": "05426430",
   "metadata": {},
   "source": [
    "### tkintre GUI"
   ]
  },
  {
   "cell_type": "code",
   "execution_count": 46,
   "id": "1adb87fa",
   "metadata": {},
   "outputs": [
    {
     "name": "stdout",
     "output_type": "stream",
     "text": [
      "Selected File Path: C:\\Users\\Admin\\Desktop\\Nimbus-dispute-dec-image data.xlsx\n"
     ]
    }
   ],
   "source": [
    "# Select folder and Get path\n",
    "\n",
    "import tkinter as tk\n",
    "from tkinter import filedialog\n",
    "\n",
    "def select_folder():\n",
    "    global folder_path\n",
    "    folder_path = filedialog.askdirectory()  # Opens a folder selection dialog\n",
    "    if folder_path:\n",
    "        print(\"Selected Folder Path:\", folder_path)  # Output the selected folder path\n",
    "        root.destroy()  # Remove it if you want to keep selecting folder and getting paths\n",
    "        file_path = None\n",
    "\n",
    "def select_file():\n",
    "    from pathlib import Path\n",
    "    global file_path\n",
    "    filetypes = (('excel files', '*.xlsx'), ('csv files', '*.csv')) \n",
    "    file_path = filedialog.askopenfile(filetypes=filetypes, initialdir=\"D:/Downloads\") \n",
    "    file_path = str(Path(file_path.name))\n",
    "    if file_path:\n",
    "        print(\"Selected File Path:\", file_path)  # Output the selected folder path\n",
    "        root.destroy()  # Remove it if you want to keep selecting folder and getting paths\n",
    "    folder_path = None\n",
    "\n",
    "root = tk.Tk()\n",
    "root.title(\"Select Images Folder or File\")\n",
    "\n",
    "# Button to open file dialog to select a folder\n",
    "select_button = tk.Button(root, text=\"Select images folder\", command=select_folder, font=(\"Arial\", 10))\n",
    "select_button.pack(padx=200, pady=50)\n",
    "\n",
    "# Label to display\n",
    "path_label = tk.Label(root, text=\"OR\", font=(\"Arial\", 10))\n",
    "path_label.pack(padx=500, pady=10)\n",
    "\n",
    "\n",
    "# Button to open file dialog to select a folder\n",
    "select_button = tk.Button(root, text=\"Select excel/csv file\", command=select_file, font=(\"Arial\", 10))\n",
    "select_button.pack(padx=200, pady=50)\n",
    "\n",
    "root.mainloop()"
   ]
  },
  {
   "cell_type": "markdown",
   "id": "48821b17",
   "metadata": {},
   "source": [
    "### wget download url"
   ]
  },
  {
   "cell_type": "code",
   "execution_count": 50,
   "id": "fbf3a03c",
   "metadata": {
    "scrolled": true
   },
   "outputs": [
    {
     "name": "stdout",
     "output_type": "stream",
     "text": [
      "2036  Images\n"
     ]
    }
   ],
   "source": [
    "import pandas as pd\n",
    "import wget\n",
    "import os\n",
    "\n",
    "if file_path:\n",
    "    try:\n",
    "        Input_Images_Path = r\"C:\\Users\\Admin\\Desktop\\Input_Images\"\n",
    "        os.makedirs(Input_Images_Path, exist_ok=True)\n",
    "        df = pd.read_excel(file_path)\n",
    "        [wget.download(i,Input_Images_Path) for i in df.iloc[:,0]]\n",
    "    except:\n",
    "        root = tk.Tk()\n",
    "        path_label = tk.Label(root, text=\"Error: Incorrect URL found. Please correct and run application again.\", font=(\"Arial\", 20) )\n",
    "        path_label.pack(padx=200, pady=100)\n",
    "        root.after(10000, root.destroy)\n",
    "        root.mainloop()\n",
    "        \n",
    "else:\n",
    "    Input_Images_Path = folder_path\n",
    "Cropped_Images_Path = r\"C:\\Users\\Admin\\Desktop\\Croped_Images\"\n",
    "Output_Images_Path = r\"C:\\Users\\Admin\\Desktop\\Output\"\n",
    "[os.makedirs(i, exist_ok=True) for i in ([Cropped_Images_Path,Output_Images_Path])]\n",
    "import glob\n",
    "Input_Images_List = glob.glob(Input_Images_Path+\"\\*.jpg\")+glob.glob(Input_Images_Path+\"\\*.png\")\n",
    "Image_Names = [i.split(\"\\\\\")[-1][:-4] for i in Input_Images_List]\n",
    "clear_output(wait=False)\n",
    "print(len(Image_Names),\" Images\")"
   ]
  },
  {
   "cell_type": "markdown",
   "id": "b738af9c",
   "metadata": {},
   "source": [
    "### PIL Image Crop"
   ]
  },
  {
   "cell_type": "code",
   "execution_count": 51,
   "id": "b2f95f03",
   "metadata": {},
   "outputs": [
    {
     "name": "stdout",
     "output_type": "stream",
     "text": [
      "Crop Done\n"
     ]
    }
   ],
   "source": [
    "# Importing Image class from PIL module\n",
    "from PIL import Image\n",
    "import matplotlib.pyplot as plt\n",
    "\n",
    "for i in range (len(Input_Images_List)):\n",
    "    # Opens a image in RGB mode\n",
    "    im = Image.open(Input_Images_List[i])\n",
    "    # Size of the image in pixels (size of original image)\n",
    "    width, height = im.size\n",
    "    # Setting the points for cropped image\n",
    "    left = 0\n",
    "    top = 0\n",
    "    right = width / 3.5\n",
    "    bottom = height / 2.5\n",
    "    # Cropped image of above dimension\n",
    "    # (It will not change original image)\n",
    "    im1 = im.crop((left, top, right, bottom))\n",
    "    # SAve the image\n",
    "    im1.save(Cropped_Images_Path+\"\\\\\"+Image_Names[i]+\".jpg\")\n",
    "    # Shows the image in image viewer\n",
    "    # plt.imshow(im1)\n",
    "print(\"Crop Done\")"
   ]
  },
  {
   "cell_type": "markdown",
   "id": "57ad4642",
   "metadata": {},
   "source": [
    "### easyocr text extract"
   ]
  },
  {
   "cell_type": "code",
   "execution_count": 32,
   "id": "3ad36b6e",
   "metadata": {
    "scrolled": true
   },
   "outputs": [
    {
     "name": "stdout",
     "output_type": "stream",
     "text": [
      "WARNING:tensorflow:From C:\\Users\\Admin\\AppData\\Roaming\\Python\\Python311\\site-packages\\keras\\src\\losses.py:2976: The name tf.losses.sparse_softmax_cross_entropy is deprecated. Please use tf.compat.v1.losses.sparse_softmax_cross_entropy instead.\n",
      "\n",
      "WARNING:tensorflow:From C:\\Users\\Admin\\AppData\\Roaming\\Python\\Python311\\site-packages\\keras\\src\\backend.py:873: The name tf.get_default_graph is deprecated. Please use tf.compat.v1.get_default_graph instead.\n",
      "\n"
     ]
    },
    {
     "name": "stderr",
     "output_type": "stream",
     "text": [
      "C:\\ProgramData\\anaconda3\\Lib\\site-packages\\paramiko\\transport.py:219: CryptographyDeprecationWarning: Blowfish has been deprecated\n",
      "  \"class\": algorithms.Blowfish,\n"
     ]
    }
   ],
   "source": [
    "from PIL import Image\n",
    "import numpy as np\n",
    "import easyocr\n"
   ]
  },
  {
   "cell_type": "code",
   "execution_count": 6,
   "id": "6f0cc034",
   "metadata": {},
   "outputs": [
    {
     "name": "stdout",
     "output_type": "stream",
     "text": [
      "WARNING:tensorflow:From C:\\Users\\Admin\\AppData\\Roaming\\Python\\Python311\\site-packages\\keras\\src\\losses.py:2976: The name tf.losses.sparse_softmax_cross_entropy is deprecated. Please use tf.compat.v1.losses.sparse_softmax_cross_entropy instead.\n",
      "\n",
      "WARNING:tensorflow:From C:\\Users\\Admin\\AppData\\Roaming\\Python\\Python311\\site-packages\\keras\\src\\backend.py:873: The name tf.get_default_graph is deprecated. Please use tf.compat.v1.get_default_graph instead.\n",
      "\n"
     ]
    },
    {
     "name": "stderr",
     "output_type": "stream",
     "text": [
      "C:\\ProgramData\\anaconda3\\Lib\\site-packages\\paramiko\\transport.py:219: CryptographyDeprecationWarning: Blowfish has been deprecated\n",
      "  \"class\": algorithms.Blowfish,\n"
     ]
    }
   ],
   "source": [
    "# Function to filter text based on color\n",
    "def extract_text_by_color(image_path, color_threshold=150, white_threshold=200):\n",
    "    # Read the image using Pillow\n",
    "    image = Image.open(image_path)\n",
    "    # Convert the image to a NumPy array\n",
    "    img_array = np.array(image)\n",
    "    \n",
    "    # Extract red, green, and blue channels\n",
    "    red_channel = img_array[:, :, 0]\n",
    "    green_channel = img_array[:, :, 1]\n",
    "    blue_channel = img_array[:, :, 2]\n",
    "    \n",
    "    # Create a binary mask for red and white pixels\n",
    "    red_mask = (red_channel > color_threshold) & (green_channel < white_threshold) & (blue_channel < white_threshold)\n",
    "    \n",
    "    # Apply the mask to the original image\n",
    "    red_and_white_text_image = np.zeros_like(img_array)\n",
    "    red_and_white_text_image[red_mask] = img_array[red_mask]\n",
    "    \n",
    "    # Convert the resulting image array back to a PIL Image\n",
    "    red_and_white_text_image = Image.fromarray(red_and_white_text_image)\n",
    "    \n",
    "    return red_and_white_text_image"
   ]
  },
  {
   "cell_type": "code",
   "execution_count": 52,
   "id": "c7f4ba01",
   "metadata": {},
   "outputs": [
    {
     "name": "stdout",
     "output_type": "stream",
     "text": [
      "2035\n"
     ]
    }
   ],
   "source": [
    "from IPython.display import clear_output\n",
    "\n",
    "import glob\n",
    "Cropped_Images_List = glob.glob(Cropped_Images_Path+\"\\*.jpg\")\n",
    "Cropped_Image_Names = [i.split(\"\\\\\")[-1][:-4] for i in Cropped_Images_List]\n",
    "\n",
    "Output_Text_List = []\n",
    "for i in range (len(Cropped_Images_List)):\n",
    "# for i in range (10)\n",
    "    # Path to the image\n",
    "    image_path = Cropped_Images_List[i]\n",
    "    # Extract text from the image with the specified color filter\n",
    "#     filtered_image = extract_text_by_color(image_path)\n",
    "    # Convert PIL Image to NumPy array\n",
    "#     filtered_image_array = np.array(filtered_image)\n",
    "    # Perform OCR on the filtered image array\n",
    "    reader = easyocr.Reader(['en'])\n",
    "    result = reader.readtext(image_path, detail=0)\n",
    "    # Print the extracted text\n",
    "    Output_Text_List.append([Cropped_Image_Names[i]] +result)\n",
    "    clear_output(wait=True)\n",
    "    print(i)"
   ]
  },
  {
   "cell_type": "code",
   "execution_count": 24,
   "id": "5a63aa9b",
   "metadata": {},
   "outputs": [],
   "source": [
    "Final = []"
   ]
  },
  {
   "cell_type": "code",
   "execution_count": 25,
   "id": "b422ec03",
   "metadata": {},
   "outputs": [],
   "source": [
    "Final.append(Output_Text_List)"
   ]
  },
  {
   "cell_type": "code",
   "execution_count": 15,
   "id": "8ad78dd7",
   "metadata": {},
   "outputs": [],
   "source": [
    "Output_Text_Lists= Output_Text_List.copy()"
   ]
  },
  {
   "cell_type": "code",
   "execution_count": 17,
   "id": "6bb2636e",
   "metadata": {},
   "outputs": [],
   "source": [
    "Final = Output_Text_Lists+Output_Text_List"
   ]
  },
  {
   "cell_type": "code",
   "execution_count": null,
   "id": "355d3daf",
   "metadata": {},
   "outputs": [],
   "source": [
    "len(Output_Text_List)"
   ]
  },
  {
   "cell_type": "code",
   "execution_count": null,
   "id": "2722982f",
   "metadata": {},
   "outputs": [],
   "source": [
    "Output_Text_List[2725]"
   ]
  },
  {
   "cell_type": "code",
   "execution_count": 53,
   "id": "1da09980",
   "metadata": {
    "scrolled": true
   },
   "outputs": [
    {
     "data": {
      "text/html": [
       "<div>\n",
       "<style scoped>\n",
       "    .dataframe tbody tr th:only-of-type {\n",
       "        vertical-align: middle;\n",
       "    }\n",
       "\n",
       "    .dataframe tbody tr th {\n",
       "        vertical-align: top;\n",
       "    }\n",
       "\n",
       "    .dataframe thead th {\n",
       "        text-align: right;\n",
       "    }\n",
       "</style>\n",
       "<table border=\"1\" class=\"dataframe\">\n",
       "  <thead>\n",
       "    <tr style=\"text-align: right;\">\n",
       "      <th></th>\n",
       "      <th>0</th>\n",
       "      <th>1</th>\n",
       "      <th>2</th>\n",
       "      <th>3</th>\n",
       "      <th>4</th>\n",
       "      <th>5</th>\n",
       "      <th>6</th>\n",
       "      <th>7</th>\n",
       "      <th>8</th>\n",
       "      <th>9</th>\n",
       "      <th>...</th>\n",
       "      <th>14</th>\n",
       "      <th>15</th>\n",
       "      <th>16</th>\n",
       "      <th>17</th>\n",
       "      <th>18</th>\n",
       "      <th>19</th>\n",
       "      <th>20</th>\n",
       "      <th>21</th>\n",
       "      <th>22</th>\n",
       "      <th>23</th>\n",
       "    </tr>\n",
       "  </thead>\n",
       "  <tbody>\n",
       "    <tr>\n",
       "      <th>0</th>\n",
       "      <td>76889879732_0_1699935898</td>\n",
       "      <td>Location:</td>\n",
       "      <td>NOT PROVIDED</td>\n",
       "      <td>AWB_No:</td>\n",
       "      <td>76889879732</td>\n",
       "      <td>Length:</td>\n",
       "      <td>26.6 cm</td>\n",
       "      <td>Width:</td>\n",
       "      <td>21.7 cm</td>\n",
       "      <td>Height:</td>\n",
       "      <td>...</td>\n",
       "      <td>0.498 kg</td>\n",
       "      <td>Time:</td>\n",
       "      <td>14-11-2023..05.28.24</td>\n",
       "      <td>Sorter_ID:</td>\n",
       "      <td>BDM3</td>\n",
       "      <td>None</td>\n",
       "      <td>None</td>\n",
       "      <td>None</td>\n",
       "      <td>None</td>\n",
       "      <td>None</td>\n",
       "    </tr>\n",
       "    <tr>\n",
       "      <th>1</th>\n",
       "      <td>76889886776_0_1699936002</td>\n",
       "      <td>Location:</td>\n",
       "      <td>NOT PROVIDED</td>\n",
       "      <td>AWB_No:</td>\n",
       "      <td>76889886776</td>\n",
       "      <td>Length:</td>\n",
       "      <td>26.7 cm</td>\n",
       "      <td>Width:</td>\n",
       "      <td>19.1 cm</td>\n",
       "      <td>Height:</td>\n",
       "      <td>...</td>\n",
       "      <td>'0.347 kg</td>\n",
       "      <td>Time:</td>\n",
       "      <td>14-11-2023..05.30.40</td>\n",
       "      <td>Sorter_ID:</td>\n",
       "      <td>BDM3</td>\n",
       "      <td>FUUL</td>\n",
       "      <td>None</td>\n",
       "      <td>None</td>\n",
       "      <td>None</td>\n",
       "      <td>None</td>\n",
       "    </tr>\n",
       "    <tr>\n",
       "      <th>2</th>\n",
       "      <td>76890711111_0_1700014712</td>\n",
       "      <td>Location:</td>\n",
       "      <td>NOT PROVIDED</td>\n",
       "      <td>AWB_No:</td>\n",
       "      <td>76890711111</td>\n",
       "      <td>Length:</td>\n",
       "      <td>23.4 cm</td>\n",
       "      <td>Width:</td>\n",
       "      <td>18.7 cm</td>\n",
       "      <td>Height:</td>\n",
       "      <td>...</td>\n",
       "      <td>'0.361 kg</td>\n",
       "      <td>Time:</td>\n",
       "      <td>15-11-2023..07.32.52</td>\n",
       "      <td>Sorter_ID:</td>\n",
       "      <td>BDM3</td>\n",
       "      <td>None</td>\n",
       "      <td>None</td>\n",
       "      <td>None</td>\n",
       "      <td>None</td>\n",
       "      <td>None</td>\n",
       "    </tr>\n",
       "    <tr>\n",
       "      <th>3</th>\n",
       "      <td>76891498541_0_1700368241</td>\n",
       "      <td>Location:</td>\n",
       "      <td>NOT PROVIDED</td>\n",
       "      <td>AWB_No:</td>\n",
       "      <td>76891498541</td>\n",
       "      <td>Length:</td>\n",
       "      <td>23.0 cm</td>\n",
       "      <td>Width:</td>\n",
       "      <td>21.4 cm</td>\n",
       "      <td>Height:</td>\n",
       "      <td>...</td>\n",
       "      <td>0.468 kg</td>\n",
       "      <td>Time:</td>\n",
       "      <td>19-11-2023.09.30.52</td>\n",
       "      <td>Sorter_ID:</td>\n",
       "      <td>BDM3</td>\n",
       "      <td>None</td>\n",
       "      <td>None</td>\n",
       "      <td>None</td>\n",
       "      <td>None</td>\n",
       "      <td>None</td>\n",
       "    </tr>\n",
       "    <tr>\n",
       "      <th>4</th>\n",
       "      <td>76892467960_0_1700308348</td>\n",
       "      <td>Location:</td>\n",
       "      <td>NOT PROVIDED</td>\n",
       "      <td>AWB_No:</td>\n",
       "      <td>76892467960</td>\n",
       "      <td>Length:</td>\n",
       "      <td>14.2 cm</td>\n",
       "      <td>Width:</td>\n",
       "      <td>14.2 cm</td>\n",
       "      <td>Height:</td>\n",
       "      <td>...</td>\n",
       "      <td>0.454 kg</td>\n",
       "      <td>Time:</td>\n",
       "      <td>18-11-2023.10.59.25</td>\n",
       "      <td>Sorter_ID:</td>\n",
       "      <td>BDM3</td>\n",
       "      <td>None</td>\n",
       "      <td>None</td>\n",
       "      <td>None</td>\n",
       "      <td>None</td>\n",
       "      <td>None</td>\n",
       "    </tr>\n",
       "    <tr>\n",
       "      <th>...</th>\n",
       "      <td>...</td>\n",
       "      <td>...</td>\n",
       "      <td>...</td>\n",
       "      <td>...</td>\n",
       "      <td>...</td>\n",
       "      <td>...</td>\n",
       "      <td>...</td>\n",
       "      <td>...</td>\n",
       "      <td>...</td>\n",
       "      <td>...</td>\n",
       "      <td>...</td>\n",
       "      <td>...</td>\n",
       "      <td>...</td>\n",
       "      <td>...</td>\n",
       "      <td>...</td>\n",
       "      <td>...</td>\n",
       "      <td>...</td>\n",
       "      <td>...</td>\n",
       "      <td>...</td>\n",
       "      <td>...</td>\n",
       "      <td>...</td>\n",
       "    </tr>\n",
       "    <tr>\n",
       "      <th>2031</th>\n",
       "      <td>77872402425_0_1703784455</td>\n",
       "      <td>Location:</td>\n",
       "      <td>NOT PROVIDED</td>\n",
       "      <td>AWB_No:</td>\n",
       "      <td>77872402425</td>\n",
       "      <td>Length:</td>\n",
       "      <td>34.8 cm</td>\n",
       "      <td>Width:</td>\n",
       "      <td>22.4 cm</td>\n",
       "      <td>Height:</td>\n",
       "      <td>...</td>\n",
       "      <td>1.197 kg</td>\n",
       "      <td>Time:</td>\n",
       "      <td>28-12-2023.20.22.46</td>\n",
       "      <td>Sorter_ID:</td>\n",
       "      <td>BDB2</td>\n",
       "      <td>None</td>\n",
       "      <td>None</td>\n",
       "      <td>None</td>\n",
       "      <td>None</td>\n",
       "      <td>None</td>\n",
       "    </tr>\n",
       "    <tr>\n",
       "      <th>2032</th>\n",
       "      <td>77873302802_0_1703910331</td>\n",
       "      <td>Location:</td>\n",
       "      <td>NOT PROVIDED</td>\n",
       "      <td>AWB_No:</td>\n",
       "      <td>77873302802</td>\n",
       "      <td>Length:</td>\n",
       "      <td>31.9 cm</td>\n",
       "      <td>Width:</td>\n",
       "      <td>21.8 cm</td>\n",
       "      <td>Height:</td>\n",
       "      <td>...</td>\n",
       "      <td>1.13 kg</td>\n",
       "      <td>Time:</td>\n",
       "      <td>29-12-2023,.20.38.27</td>\n",
       "      <td>Sorter_ID:</td>\n",
       "      <td>BDB2</td>\n",
       "      <td>None</td>\n",
       "      <td>None</td>\n",
       "      <td>None</td>\n",
       "      <td>None</td>\n",
       "      <td>None</td>\n",
       "    </tr>\n",
       "    <tr>\n",
       "      <th>2033</th>\n",
       "      <td>77873306582_0_1703910343</td>\n",
       "      <td>Location:</td>\n",
       "      <td>NOT PROVIDED</td>\n",
       "      <td>AWB_No:</td>\n",
       "      <td>77873306582</td>\n",
       "      <td>Length:</td>\n",
       "      <td>32.0 cm</td>\n",
       "      <td>Width:</td>\n",
       "      <td>22.0 cm</td>\n",
       "      <td>Height:</td>\n",
       "      <td>...</td>\n",
       "      <td>1.132 kg</td>\n",
       "      <td>Time:</td>\n",
       "      <td>29-12-2023.20.38.48</td>\n",
       "      <td>Sorter_ID:</td>\n",
       "      <td>BDB2</td>\n",
       "      <td>None</td>\n",
       "      <td>None</td>\n",
       "      <td>None</td>\n",
       "      <td>None</td>\n",
       "      <td>None</td>\n",
       "    </tr>\n",
       "    <tr>\n",
       "      <th>2034</th>\n",
       "      <td>77873352384_0_1703910552</td>\n",
       "      <td>Location:</td>\n",
       "      <td>NOT PROVIDED</td>\n",
       "      <td>AWB_No:</td>\n",
       "      <td>77873352384</td>\n",
       "      <td>Length:</td>\n",
       "      <td>31.7 cm</td>\n",
       "      <td>Width:</td>\n",
       "      <td>22.2 cm</td>\n",
       "      <td>Height:</td>\n",
       "      <td>...</td>\n",
       "      <td>1.041 kg</td>\n",
       "      <td>Time:</td>\n",
       "      <td>29-12-2023.20.40.27</td>\n",
       "      <td>Sorter_ID:</td>\n",
       "      <td>BDB2</td>\n",
       "      <td>None</td>\n",
       "      <td>None</td>\n",
       "      <td>None</td>\n",
       "      <td>None</td>\n",
       "      <td>None</td>\n",
       "    </tr>\n",
       "    <tr>\n",
       "      <th>2035</th>\n",
       "      <td>77873356831_0_1703910567</td>\n",
       "      <td>Location:</td>\n",
       "      <td>NOT PROVIDED</td>\n",
       "      <td>AWB_No:</td>\n",
       "      <td>77873356831</td>\n",
       "      <td>Length:</td>\n",
       "      <td>35.7 cm</td>\n",
       "      <td>Width:</td>\n",
       "      <td>23.9 cm</td>\n",
       "      <td>Height:</td>\n",
       "      <td>...</td>\n",
       "      <td>1.242 kg</td>\n",
       "      <td>Time:</td>\n",
       "      <td>29-12-2023.20*41.32</td>\n",
       "      <td>Sorter_ID:</td>\n",
       "      <td>BDB2</td>\n",
       "      <td>None</td>\n",
       "      <td>None</td>\n",
       "      <td>None</td>\n",
       "      <td>None</td>\n",
       "      <td>None</td>\n",
       "    </tr>\n",
       "  </tbody>\n",
       "</table>\n",
       "<p>2036 rows × 24 columns</p>\n",
       "</div>"
      ],
      "text/plain": [
       "                            0          1             2        3            4   \\\n",
       "0     76889879732_0_1699935898  Location:  NOT PROVIDED  AWB_No:  76889879732   \n",
       "1     76889886776_0_1699936002  Location:  NOT PROVIDED  AWB_No:  76889886776   \n",
       "2     76890711111_0_1700014712  Location:  NOT PROVIDED  AWB_No:  76890711111   \n",
       "3     76891498541_0_1700368241  Location:  NOT PROVIDED  AWB_No:  76891498541   \n",
       "4     76892467960_0_1700308348  Location:  NOT PROVIDED  AWB_No:  76892467960   \n",
       "...                        ...        ...           ...      ...          ...   \n",
       "2031  77872402425_0_1703784455  Location:  NOT PROVIDED  AWB_No:  77872402425   \n",
       "2032  77873302802_0_1703910331  Location:  NOT PROVIDED  AWB_No:  77873302802   \n",
       "2033  77873306582_0_1703910343  Location:  NOT PROVIDED  AWB_No:  77873306582   \n",
       "2034  77873352384_0_1703910552  Location:  NOT PROVIDED  AWB_No:  77873352384   \n",
       "2035  77873356831_0_1703910567  Location:  NOT PROVIDED  AWB_No:  77873356831   \n",
       "\n",
       "           5        6       7        8        9   ...         14     15  \\\n",
       "0     Length:  26.6 cm  Width:  21.7 cm  Height:  ...   0.498 kg  Time:   \n",
       "1     Length:  26.7 cm  Width:  19.1 cm  Height:  ...  '0.347 kg  Time:   \n",
       "2     Length:  23.4 cm  Width:  18.7 cm  Height:  ...  '0.361 kg  Time:   \n",
       "3     Length:  23.0 cm  Width:  21.4 cm  Height:  ...   0.468 kg  Time:   \n",
       "4     Length:  14.2 cm  Width:  14.2 cm  Height:  ...   0.454 kg  Time:   \n",
       "...       ...      ...     ...      ...      ...  ...        ...    ...   \n",
       "2031  Length:  34.8 cm  Width:  22.4 cm  Height:  ...   1.197 kg  Time:   \n",
       "2032  Length:  31.9 cm  Width:  21.8 cm  Height:  ...    1.13 kg  Time:   \n",
       "2033  Length:  32.0 cm  Width:  22.0 cm  Height:  ...   1.132 kg  Time:   \n",
       "2034  Length:  31.7 cm  Width:  22.2 cm  Height:  ...   1.041 kg  Time:   \n",
       "2035  Length:  35.7 cm  Width:  23.9 cm  Height:  ...   1.242 kg  Time:   \n",
       "\n",
       "                        16          17    18    19    20    21    22    23  \n",
       "0     14-11-2023..05.28.24  Sorter_ID:  BDM3  None  None  None  None  None  \n",
       "1     14-11-2023..05.30.40  Sorter_ID:  BDM3  FUUL  None  None  None  None  \n",
       "2     15-11-2023..07.32.52  Sorter_ID:  BDM3  None  None  None  None  None  \n",
       "3      19-11-2023.09.30.52  Sorter_ID:  BDM3  None  None  None  None  None  \n",
       "4      18-11-2023.10.59.25  Sorter_ID:  BDM3  None  None  None  None  None  \n",
       "...                    ...         ...   ...   ...   ...   ...   ...   ...  \n",
       "2031   28-12-2023.20.22.46  Sorter_ID:  BDB2  None  None  None  None  None  \n",
       "2032  29-12-2023,.20.38.27  Sorter_ID:  BDB2  None  None  None  None  None  \n",
       "2033   29-12-2023.20.38.48  Sorter_ID:  BDB2  None  None  None  None  None  \n",
       "2034   29-12-2023.20.40.27  Sorter_ID:  BDB2  None  None  None  None  None  \n",
       "2035   29-12-2023.20*41.32  Sorter_ID:  BDB2  None  None  None  None  None  \n",
       "\n",
       "[2036 rows x 24 columns]"
      ]
     },
     "execution_count": 53,
     "metadata": {},
     "output_type": "execute_result"
    }
   ],
   "source": [
    "df = pd.DataFrame(Output_Text_List)\n",
    "df"
   ]
  },
  {
   "cell_type": "code",
   "execution_count": 44,
   "id": "0cc693fa",
   "metadata": {},
   "outputs": [],
   "source": [
    "df.to_excel(r'C:\\Users\\Admin\\Desktop\\Output\\Final.xlsx')"
   ]
  },
  {
   "cell_type": "markdown",
   "id": "cf8800df",
   "metadata": {},
   "source": [
    "### pd save to xlsx"
   ]
  },
  {
   "cell_type": "code",
   "execution_count": 11,
   "id": "aafbbb54",
   "metadata": {},
   "outputs": [
    {
     "data": {
      "text/plain": [
       "RangeIndex(start=0, stop=16, step=1)"
      ]
     },
     "execution_count": 11,
     "metadata": {},
     "output_type": "execute_result"
    }
   ],
   "source": [
    "df.columns"
   ]
  },
  {
   "cell_type": "code",
   "execution_count": 54,
   "id": "b4e4872a",
   "metadata": {
    "scrolled": false
   },
   "outputs": [
    {
     "data": {
      "text/html": [
       "<div>\n",
       "<style scoped>\n",
       "    .dataframe tbody tr th:only-of-type {\n",
       "        vertical-align: middle;\n",
       "    }\n",
       "\n",
       "    .dataframe tbody tr th {\n",
       "        vertical-align: top;\n",
       "    }\n",
       "\n",
       "    .dataframe thead th {\n",
       "        text-align: right;\n",
       "    }\n",
       "</style>\n",
       "<table border=\"1\" class=\"dataframe\">\n",
       "  <thead>\n",
       "    <tr style=\"text-align: right;\">\n",
       "      <th></th>\n",
       "      <th>AWB_No</th>\n",
       "      <th>Length</th>\n",
       "      <th>Width</th>\n",
       "      <th>Height</th>\n",
       "      <th>Volume</th>\n",
       "      <th>Weight</th>\n",
       "    </tr>\n",
       "  </thead>\n",
       "  <tbody>\n",
       "    <tr>\n",
       "      <th>0</th>\n",
       "      <td>76889879732</td>\n",
       "      <td>26.6</td>\n",
       "      <td>21.7</td>\n",
       "      <td>9.7</td>\n",
       "      <td>5599.0</td>\n",
       "      <td>0.498</td>\n",
       "    </tr>\n",
       "    <tr>\n",
       "      <th>1</th>\n",
       "      <td>76889886776</td>\n",
       "      <td>26.7</td>\n",
       "      <td>19.1</td>\n",
       "      <td>14.1</td>\n",
       "      <td>7191.0</td>\n",
       "      <td>'0.347</td>\n",
       "    </tr>\n",
       "    <tr>\n",
       "      <th>2</th>\n",
       "      <td>76890711111</td>\n",
       "      <td>23.4</td>\n",
       "      <td>18.7</td>\n",
       "      <td>14.4</td>\n",
       "      <td>6301.0</td>\n",
       "      <td>'0.361</td>\n",
       "    </tr>\n",
       "    <tr>\n",
       "      <th>3</th>\n",
       "      <td>76891498541</td>\n",
       "      <td>23.0</td>\n",
       "      <td>21.4</td>\n",
       "      <td>8.0</td>\n",
       "      <td>3938.0</td>\n",
       "      <td>0.468</td>\n",
       "    </tr>\n",
       "    <tr>\n",
       "      <th>4</th>\n",
       "      <td>76892467960</td>\n",
       "      <td>14.2</td>\n",
       "      <td>14.2</td>\n",
       "      <td>13.6</td>\n",
       "      <td>2742.0</td>\n",
       "      <td>0.454</td>\n",
       "    </tr>\n",
       "    <tr>\n",
       "      <th>...</th>\n",
       "      <td>...</td>\n",
       "      <td>...</td>\n",
       "      <td>...</td>\n",
       "      <td>...</td>\n",
       "      <td>...</td>\n",
       "      <td>...</td>\n",
       "    </tr>\n",
       "    <tr>\n",
       "      <th>2031</th>\n",
       "      <td>77872402425</td>\n",
       "      <td>34.8</td>\n",
       "      <td>22.4</td>\n",
       "      <td>11.8</td>\n",
       "      <td>9198.0</td>\n",
       "      <td>1.197</td>\n",
       "    </tr>\n",
       "    <tr>\n",
       "      <th>2032</th>\n",
       "      <td>77873302802</td>\n",
       "      <td>31.9</td>\n",
       "      <td>21.8</td>\n",
       "      <td>11.4</td>\n",
       "      <td>7928.0</td>\n",
       "      <td>1.13</td>\n",
       "    </tr>\n",
       "    <tr>\n",
       "      <th>2033</th>\n",
       "      <td>77873306582</td>\n",
       "      <td>32.0</td>\n",
       "      <td>22.0</td>\n",
       "      <td>11.4</td>\n",
       "      <td>8026.0</td>\n",
       "      <td>1.132</td>\n",
       "    </tr>\n",
       "    <tr>\n",
       "      <th>2034</th>\n",
       "      <td>77873352384</td>\n",
       "      <td>31.7</td>\n",
       "      <td>22.2</td>\n",
       "      <td>11.1</td>\n",
       "      <td>7812.0</td>\n",
       "      <td>1.041</td>\n",
       "    </tr>\n",
       "    <tr>\n",
       "      <th>2035</th>\n",
       "      <td>77873356831</td>\n",
       "      <td>35.7</td>\n",
       "      <td>23.9</td>\n",
       "      <td>12.1</td>\n",
       "      <td>10324.0</td>\n",
       "      <td>1.242</td>\n",
       "    </tr>\n",
       "  </tbody>\n",
       "</table>\n",
       "<p>2036 rows × 6 columns</p>\n",
       "</div>"
      ],
      "text/plain": [
       "           AWB_No Length Width Height   Volume  Weight\n",
       "0     76889879732   26.6  21.7    9.7   5599.0   0.498\n",
       "1     76889886776   26.7  19.1   14.1   7191.0  '0.347\n",
       "2     76890711111   23.4  18.7   14.4   6301.0  '0.361\n",
       "3     76891498541   23.0  21.4    8.0   3938.0   0.468\n",
       "4     76892467960   14.2  14.2   13.6   2742.0   0.454\n",
       "...           ...    ...   ...    ...      ...     ...\n",
       "2031  77872402425   34.8  22.4   11.8   9198.0   1.197\n",
       "2032  77873302802   31.9  21.8   11.4   7928.0    1.13\n",
       "2033  77873306582   32.0  22.0   11.4   8026.0   1.132\n",
       "2034  77873352384   31.7  22.2   11.1   7812.0   1.041\n",
       "2035  77873356831   35.7  23.9   12.1  10324.0   1.242\n",
       "\n",
       "[2036 rows x 6 columns]"
      ]
     },
     "execution_count": 54,
     "metadata": {},
     "output_type": "execute_result"
    }
   ],
   "source": [
    "import pandas as pd\n",
    "# df = pd.read_excel(r'C:\\Users\\Admin\\Desktop\\Output\\Output_Text_Lists.xlsx')\n",
    "df = pd.DataFrame(Output_Text_List)\n",
    "df = df.iloc[:,[4,6,8,10,12,14]]\n",
    "df.columns = [\"AWB_No\",\"Length\",\"Width\",\"Height\",\"Volume\",\"Weight\"]\n",
    "df.dropna(inplace=True)\n",
    "df['Length'] = df['Length'].astype(\"string\").apply(lambda x: x.split()[0].replace(\",\",\".\"))\n",
    "df['Width'] = df['Width'].astype(\"string\").apply(lambda x: x.split()[0].replace(\",\",\".\"))\n",
    "df['Height'] = df['Height'].astype(\"string\").apply(lambda x: x.split()[0].replace(\",\",\".\"))\n",
    "df['Volume'] = df['Volume'].astype(\"string\").apply(lambda x: x.split()[0].replace(\",\",\".\"))\n",
    "df['Weight'] = df['Weight'].astype(\"string\").apply(lambda x: x.split()[0].replace(\",\",\".\"))\n",
    "df"
   ]
  },
  {
   "cell_type": "code",
   "execution_count": 55,
   "id": "d734b283",
   "metadata": {},
   "outputs": [],
   "source": [
    "df.to_excel(r'C:\\Users\\Admin\\Desktop\\Output\\Output_Text_List.xlsx', index=False)"
   ]
  },
  {
   "cell_type": "code",
   "execution_count": null,
   "id": "0c7586b1",
   "metadata": {},
   "outputs": [],
   "source": [
    "def open_folder():\n",
    "    os.startfile(r'C:\\Users\\Admin\\Desktop\\Output')\n",
    "    root.destroy()\n",
    "\n",
    "root = tk.Tk()\n",
    "root.title(\"Select Images Folder or File\")\n",
    "\n",
    "# Button to open file dialog to select a folder\n",
    "select_button = tk.Button(root, text=\"Task completed, click here to see output\", command=open_folder, font=(\"Arial\", 20), bg=\"green\")\n",
    "select_button.pack(padx=200, pady=200)\n",
    "\n",
    "root.mainloop()"
   ]
  },
  {
   "cell_type": "code",
   "execution_count": 56,
   "id": "7e9fe813",
   "metadata": {},
   "outputs": [],
   "source": [
    "os.startfile(r'C:\\Users\\Admin\\Desktop\\Output\\Output_Text_List.xlsx')"
   ]
  },
  {
   "cell_type": "code",
   "execution_count": null,
   "id": "ebd093b8",
   "metadata": {},
   "outputs": [],
   "source": [
    "\"https://anextech.co.in/Volumetric-Measurement-Machines.html\""
   ]
  },
  {
   "cell_type": "code",
   "execution_count": null,
   "id": "2cc8e05f",
   "metadata": {},
   "outputs": [],
   "source": [
    "end_time = time.time()\n",
    "print(int((end_time - start_time)/60),\"min.\")"
   ]
  }
 ],
 "metadata": {
  "kernelspec": {
   "display_name": "Python 3 (ipykernel)",
   "language": "python",
   "name": "python3"
  },
  "language_info": {
   "codemirror_mode": {
    "name": "ipython",
    "version": 3
   },
   "file_extension": ".py",
   "mimetype": "text/x-python",
   "name": "python",
   "nbconvert_exporter": "python",
   "pygments_lexer": "ipython3",
   "version": "3.11.3"
  }
 },
 "nbformat": 4,
 "nbformat_minor": 5
}
